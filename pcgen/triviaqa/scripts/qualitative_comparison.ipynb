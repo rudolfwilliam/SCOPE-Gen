{
 "cells": [
  {
   "cell_type": "code",
   "execution_count": 1,
   "metadata": {},
   "outputs": [],
   "source": [
    "from pcgen.algorithms import create_scorgen_pipeline\n",
    "from pcgen.baselines.clm.uncertainty import create_clm_pipeline, generate_clm\n",
    "from pcgen.algorithms.base import compute_alphas\n",
    "import os\n",
    "from pcgen.triviaqa.paths import DATA_DIR\n",
    "import pickle\n",
    "import numpy as np\n",
    "from pcgen.utils import set_seed, load_configs_from_jsonl\n"
   ]
  },
  {
   "cell_type": "code",
   "execution_count": 2,
   "metadata": {},
   "outputs": [],
   "source": [
    "set_seed(0)"
   ]
  },
  {
   "cell_type": "code",
   "execution_count": 3,
   "metadata": {},
   "outputs": [],
   "source": [
    "alpha = 0.2\n",
    "score = \"sum\"\n",
    "stages = [\"generation\", \"quality\", \"remove_dupl\"]\n",
    "split_ratios = [1/2, 1/2]\n",
    "alphas = compute_alphas(alpha=alpha, K=len(split_ratios), M=5)\n",
    "# amount of samples to show\n",
    "N = 10"
   ]
  },
  {
   "cell_type": "code",
   "execution_count": 4,
   "metadata": {},
   "outputs": [],
   "source": [
    "# load calibration set\n",
    "data_dir = os.path.join(DATA_DIR, \"processed\")\n",
    "data_path = os.path.join(data_dir, \"data.pkl\")\n",
    "\n",
    "# duplicate removal does not need to be calibrated\n",
    "K = len(stages) - ('remove_dupl' in stages)\n",
    "\n",
    "with open(data_path, 'rb') as file:\n",
    "    data = pickle.load(file)\n",
    "data_cal = data[600:1800]"
   ]
  },
  {
   "cell_type": "code",
   "execution_count": 5,
   "metadata": {},
   "outputs": [],
   "source": [
    "scorgen_pipeline = create_scorgen_pipeline(data=data_cal, split_ratios=split_ratios, alphas=alphas,\n",
    "                                           score=score, data_splitting=True, verbose=True,\n",
    "                                           stages=stages, count_adm=False, measure_time=False)['pipeline']\n",
    "# delta_1 and delta_2 are taken from the quantitative experiments\n",
    "delta_1 = 0.29 \n",
    "delta_2 = 0.02\n",
    "clm_pipeline = create_clm_pipeline(data=data_cal, split_ratio=0.5, delta_1=delta_1, \n",
    "                                   delta_2=delta_2, use_lambda_1=False, use_lambda_2=True, \n",
    "                                   alt_lambda_1=0.5, alt_lambda_2=None, reduced_max=20, \n",
    "                                   measure_time=False, score=score, count_adm=False)"
   ]
  },
  {
   "cell_type": "code",
   "execution_count": 6,
   "metadata": {},
   "outputs": [],
   "source": [
    "jsonl_path = os.path.join(DATA_DIR, \"examples.jsonl\")\n",
    "obj = load_configs_from_jsonl(jsonl_path)\n",
    "# Extract the decoded answers from generations\n",
    "all_answers = []\n",
    "for line in obj:\n",
    "    decoded_answers = [{\"idx\" : idx, 'decoded' : gen['decoded']} for (idx, gen) in enumerate(line['generations'])]\n",
    "    all_answers.append(decoded_answers)\n",
    "# extract processed answers\n",
    "processed_data = [data[i] for i in range(-N, 0)]\n",
    "# add index to answers in each line\n",
    "for processed_line in processed_data:\n",
    "    processed_line[\"idxs\"] = np.array([i for i in range(20)])"
   ]
  },
  {
   "cell_type": "code",
   "execution_count": 7,
   "metadata": {},
   "outputs": [],
   "source": [
    "# get prediction set\n",
    "scorgen_out = scorgen_pipeline.generate_new(processed_data)\n",
    "# clm prediction set\n",
    "kept_mask = generate_clm(data=processed_data, clm_pipeline=tuple(clm_pipeline[\"pipeline\"][0]), score=score)"
   ]
  },
  {
   "cell_type": "code",
   "execution_count": 13,
   "metadata": {},
   "outputs": [
    {
     "name": "stdout",
     "output_type": "stream",
     "text": [
      "Scorgen Answers\n",
      "Question: What former U.S. president is known for his staunch support of Habitat for Humanity?\n",
      "Generated answers:\n",
      "\\{Jimmy Carter (\\cmark)\\}\n",
      "Question: What cat food “tastes so good, cats ask for it by name”?\n",
      "Generated answers:\n",
      "\\{Friskies (\\xmark), Whiskas (\\xmark), Fancy Feast (\\xmark), Sheba (\\xmark), Sheba (\\xmark), Felix (\\xmark)\\}\n",
      "Question: What is the name of the giraffe that Toys-r-us uses as its' mascot?\n",
      "Generated answers:\n",
      "\\{Geoffrey (\\cmark)\\}\n",
      "Question: Where do you find the Bridal Veil, American, and Horseshoe Falls?\n",
      "Generated answers:\n",
      "\\{Niagara Falls (\\cmark), Niagara Falls, Canada (\\cmark), Niagra Falls (\\cmark)\\}\n",
      "Question: The worlds largest marketer of fruit juices, what is the juice arm of the Coca Cola company?\n",
      "Generated answers:\n",
      "\\{Minute Maid (\\cmark)\\}\n",
      "Question: Whose backing band is known as The Miami Sound Machine?\n",
      "Generated answers:\n",
      "\\{Gloria Estefan (\\cmark), Gloria Estefan & Miami Sound Machine (\\cmark)\\}\n",
      "Question: With a motto of Always Ready, Always There, what US military branch had it's founding on Dec 14, 1636?\n",
      "Generated answers:\n",
      "\\{The National Guard (\\cmark), The Coast Guard (\\xmark), US Marine Corps (\\xmark)\\}\n",
      "Question: Who tried to steal Christmas from the town of Whoville?\n",
      "Generated answers:\n",
      "\\{The Grinch (\\cmark)\\}\n",
      "Question: What is the name of the parson mentioned in the lyrics of the Christmas carol \"Winter Wonderland\"?\n",
      "Generated answers:\n",
      "\\{Father (\\xmark), Rev (\\xmark)\\}\n",
      "Question: In what outdoor sport, sanctioned by the NHPA, do you score 3 points for a ringer, 2 for a leaner, and the closet scores a point?\n",
      "Generated answers:\n",
      "\\{Bowling (\\xmark), Darts (\\xmark), Bocce (\\xmark)\\}\n"
     ]
    }
   ],
   "source": [
    "# go through questions and print answers\n",
    "print(\"Scorgen Answers\")\n",
    "for idx, line in enumerate(obj):\n",
    "    print(f\"Question: {line['question']}\")\n",
    "    print(\"Generated answers:\")\n",
    "    str_ = \"\\\\{\"\n",
    "    for idx_ in scorgen_out[idx][\"idxs\"]:\n",
    "        str_ += line[\"generations\"][idx_][\"decoded\"] + \" (\" + (\"\\\\cmark\" if bool(processed_data[idx][\"labels\"][idx_]) else \"\\\\xmark\") + \")\"\n",
    "        if idx_ != scorgen_out[idx][\"idxs\"][-1]:\n",
    "            str_ += f\", \"\n",
    "    print(str_ + \"\\\\}\")"
   ]
  },
  {
   "cell_type": "code",
   "execution_count": 11,
   "metadata": {},
   "outputs": [
    {
     "name": "stdout",
     "output_type": "stream",
     "text": [
      "CLM Answers\n",
      "Question: What former U.S. president is known for his staunch support of Habitat for Humanity?\n",
      "Generated answers:\n",
      "\\{Jimmy Carter (\\cmark)\\}\n",
      "Question: What cat food “tastes so good, cats ask for it by name”?\n",
      "Generated answers:\n",
      "\\{Friskies (\\xmark), Sheba (\\xmark), Whiskas (\\xmark), Fancy Feast (\\xmark), Felix (\\xmark), Purina (\\xmark)\\}\n",
      "Question: What is the name of the giraffe that Toys-r-us uses as its' mascot?\n",
      "Generated answers:\n",
      "\\{Geoffrey (\\cmark), Geoffrey the Giraffe (\\xmark), George (\\xmark)\\}\n",
      "Question: Where do you find the Bridal Veil, American, and Horseshoe Falls?\n",
      "Generated answers:\n",
      "\\{Niagara Falls (\\cmark), Niagara Falls, Canada (\\cmark), Niagra Falls (\\cmark), Niagara (\\xmark)\\}\n",
      "Question: The worlds largest marketer of fruit juices, what is the juice arm of the Coca Cola company?\n",
      "Generated answers:\n",
      "\\{Minute Maid (\\cmark)\\}\n",
      "Question: Whose backing band is known as The Miami Sound Machine?\n",
      "Generated answers:\n",
      "\\{Gloria Estefan (\\cmark), Gloria Estefan & Miami Sound Machine (\\cmark), Gloria Estefan's (\\xmark), Gloria Estafan (\\cmark)\\}\n",
      "Question: With a motto of Always Ready, Always There, what US military branch had it's founding on Dec 14, 1636?\n",
      "Generated answers:\n",
      "\\{The Salvation Army (\\xmark), US Marine Corps (\\xmark), The Continental Army (\\xmark), Marines (\\xmark), The US Navy (\\xmark), The National Guard (\\cmark), The Coast Guard (\\xmark), The Marine Corps (\\xmark), The US Coast Guard (\\xmark)\\}\n",
      "Question: Who tried to steal Christmas from the town of Whoville?\n",
      "Generated answers:\n",
      "\\{The Grinch (\\cmark)\\}\n",
      "Question: What is the name of the parson mentioned in the lyrics of the Christmas carol \"Winter Wonderland\"?\n",
      "Generated answers:\n",
      "\\{Rev (\\xmark), Father (\\xmark), Frosty the Snowman (\\xmark), Reverend Johnson (\\xmark), Frosty (\\xmark)\\}\n",
      "Question: In what outdoor sport, sanctioned by the NHPA, do you score 3 points for a ringer, 2 for a leaner, and the closet scores a point?\n",
      "Generated answers:\n",
      "\\{Bocce (\\xmark), Bowling (\\xmark), Darts (\\xmark), Ten-Pin Bowling (\\xmark), Horseshoes (\\cmark)\\}\n"
     ]
    }
   ],
   "source": [
    "# go through questions and print answers\n",
    "print(\"CLM Answers\")\n",
    "for idx, line in enumerate(obj):\n",
    "    print(f\"Question: {line['question']}\")\n",
    "    print(\"Generated answers:\")\n",
    "    idxs = np.where(kept_mask[idx])[0]\n",
    "    str_ = \"\\\\{\"\n",
    "    for idx_ in idxs:\n",
    "        str_ += line[\"generations\"][idx_][\"decoded\"] + \" (\" + (\"\\\\cmark\" if bool(processed_data[idx][\"labels\"][idx_]) else \"\\\\xmark\") + \")\"\n",
    "        if idx_ != idxs[-1]:\n",
    "            str_ += f\", \"\n",
    "    print(str_ + \"\\\\}\")"
   ]
  }
 ],
 "metadata": {
  "kernelspec": {
   "display_name": "scorgen_mol",
   "language": "python",
   "name": "python3"
  },
  "language_info": {
   "codemirror_mode": {
    "name": "ipython",
    "version": 3
   },
   "file_extension": ".py",
   "mimetype": "text/x-python",
   "name": "python",
   "nbconvert_exporter": "python",
   "pygments_lexer": "ipython3",
   "version": "3.11.9"
  }
 },
 "nbformat": 4,
 "nbformat_minor": 2
}
